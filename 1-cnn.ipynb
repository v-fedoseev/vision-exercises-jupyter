{
  "nbformat": 4,
  "nbformat_minor": 0,
  "metadata": {
    "colab": {
      "name": "lab3",
      "provenance": [],
      "collapsed_sections": [],
      "mount_file_id": "1Coss5c6xco-__TZVEHtGh9tkIkRdFVTO",
      "authorship_tag": "ABX9TyPu6DvQvXam0Hnm16XZh882"
    },
    "kernelspec": {
      "name": "python3",
      "display_name": "Python 3"
    },
    "language_info": {
      "name": "python"
    }
  },
  "cells": [
    {
      "cell_type": "code",
      "execution_count": null,
      "metadata": {
        "id": "_Bq-wg0uwZSP"
      },
      "outputs": [],
      "source": [
        "import os\n",
        "import numpy as np\n",
        "import matplotlib\n",
        "from matplotlib import pyplot as plt\n",
        "from tqdm import tqdm\n",
        "import seaborn as sns\n",
        "\n",
        "plt.style.use('seaborn')"
      ]
    },
    {
      "cell_type": "code",
      "source": [
        "import torch\n",
        "import torch.nn as nn\n",
        "import torchvision.transforms as transforms\n",
        "import torchvision.datasets as datasets"
      ],
      "metadata": {
        "id": "F4RMOeZQwnNO"
      },
      "execution_count": null,
      "outputs": []
    },
    {
      "cell_type": "code",
      "source": [
        "# Downloading and Loading Dataset\n",
        "transform = transforms.Compose([\n",
        "    # transforms.Grayscale(),\n",
        "    transforms.ToTensor()\n",
        "])\n",
        "train_dataset = datasets.SVHN(root='drive/MyDrive/data/lab3', split='train', transform=transform, download=True)\n",
        " \n",
        "test_dataset = datasets.SVHN(root='drive/MyDrive/data/lab3', split='test', transform=transform, download=True)"
      ],
      "metadata": {
        "colab": {
          "base_uri": "https://localhost:8080/"
        },
        "id": "Jv5HrVsXxC04",
        "outputId": "1c792a5f-8896-41a6-e5e7-84872d4eea70"
      },
      "execution_count": null,
      "outputs": [
        {
          "output_type": "stream",
          "name": "stdout",
          "text": [
            "Using downloaded and verified file: drive/MyDrive/data/lab3/train_32x32.mat\n",
            "Using downloaded and verified file: drive/MyDrive/data/lab3/test_32x32.mat\n"
          ]
        }
      ]
    },
    {
      "cell_type": "code",
      "source": [
        "B_SIZE = 256\n",
        "\n",
        "train_loader = torch.utils.data.DataLoader(dataset=train_dataset, \n",
        "                                           batch_size=B_SIZE, \n",
        "                                           shuffle=True) \n",
        "test_loader = torch.utils.data.DataLoader(dataset=test_dataset, \n",
        "                                          batch_size=B_SIZE, \n",
        "                                          shuffle=False)"
      ],
      "metadata": {
        "id": "adrLRHnaJoQe"
      },
      "execution_count": null,
      "outputs": []
    },
    {
      "cell_type": "code",
      "source": [
        "class CNN(nn.Module):\n",
        "    \"\"\" \n",
        "    Varation of LeNet: a simple CNN model\n",
        "    for handwritten digit recognition\n",
        "    \"\"\"\n",
        "    def __init__(self, downsample_method='dilated', dilated_kernel_size=5, dropout=False):\n",
        "        \"\"\" Model initializer \"\"\"\n",
        "        super().__init__()\n",
        "        \n",
        "        # layer 1\n",
        "        # (1, 28, 28)\n",
        "        conv1 = nn.Conv2d(in_channels=3, out_channels=16, kernel_size=5, stride=1, padding=0)\n",
        "        # (16, 24, 24)\n",
        "        relu1 = nn.ReLU()\n",
        "\n",
        "        if downsample_method == 'max':\n",
        "            downsample1 = nn.MaxPool2d(kernel_size=2)\n",
        "        elif downsample_method == 'avg':\n",
        "            downsample1 = nn.AvgPool2d(kernel_size=2)\n",
        "        elif downsample_method == 'dilated':\n",
        "            downsample1 = nn.Conv2d(in_channels=16, out_channels=16, kernel_size=dilated_kernel_size, stride=2)\n",
        "        # (16, 12, 12)\n",
        "        if dropout:\n",
        "            self.layer1 = nn.Sequential(conv1, relu1, nn.Dropout(), downsample1)\n",
        "        else:\n",
        "            self.layer1 = nn.Sequential(conv1, relu1, downsample1)\n",
        "      \n",
        "        # layer 2\n",
        "        # (16, 12, 12)\n",
        "        conv2 = nn.Conv2d(in_channels=16, out_channels=32,  kernel_size=5, stride=1, padding=0)\n",
        "        # (32, 8, 8)\n",
        "        relu2 = nn.ReLU()\n",
        "        if downsample_method == 'max':\n",
        "            downsample2 = nn.MaxPool2d(kernel_size=2)\n",
        "        elif downsample_method == 'avg':\n",
        "            downsample2 = nn.AvgPool2d(kernel_size=2)\n",
        "        elif downsample_method == 'dilated':\n",
        "            downsample2 = nn.Conv2d(in_channels=32, out_channels=32, kernel_size=dilated_kernel_size, stride=2)\n",
        "        # (32, 4, 4)\n",
        "        if dropout:\n",
        "            self.layer2 = nn.Sequential(conv2, relu2, nn.Dropout(), downsample2)\n",
        "        else:\n",
        "            self.layer2 = nn.Sequential(conv2, relu2, downsample2)\n",
        "        \n",
        "        # fully connected classifier\n",
        "        if downsample_method == 'dilated':\n",
        "            in_dim = 128\n",
        "        else:\n",
        "            in_dim = 800\n",
        "        self.fc = nn.Linear(in_features=in_dim, out_features=10)\n",
        "        \n",
        "        return\n",
        "        \n",
        "    def forward(self, x):\n",
        "        \"\"\" Forward pass \"\"\"\n",
        "        b_size = x.shape[0]\n",
        "        out1 = self.layer1(x)\n",
        "        out2 = self.layer2(out1) # (B, 32, 4 ,4 ) -> (B, 32 * 4 * 4)\n",
        "        out2_flat = out2.view(b_size, -1)\n",
        "        y = self.fc(out2_flat)\n",
        "        return y"
      ],
      "metadata": {
        "id": "lRr50Ax5xN7v"
      },
      "execution_count": null,
      "outputs": []
    },
    {
      "cell_type": "code",
      "source": [
        "class Trainer:\n",
        "    def __init__(self, model, savepath, save_freq=10, eval_freq=1):\n",
        "        self.criterion = nn.CrossEntropyLoss()\n",
        "        self.model = model\n",
        "        self.eval_freq = eval_freq\n",
        "        self.save_freq = save_freq\n",
        "        self.stats = {\n",
        "            \"epoch\": [],\n",
        "            \"train_loss\": [],\n",
        "            \"valid_loss\": [],\n",
        "            \"accuracy\": []\n",
        "        }\n",
        "        self.savepath = savepath\n",
        "\n",
        "    @torch.no_grad()\n",
        "    def eval_model(self, test_loader):\n",
        "        \"\"\" Computing model accuracy \"\"\"\n",
        "        correct = 0\n",
        "        total = 0\n",
        "        loss_list = []\n",
        "        \n",
        "        for images, labels in test_loader:\n",
        "            images = images.to(device)\n",
        "            labels = labels.to(device)\n",
        "            \n",
        "            # Forward pass only to get logits/output\n",
        "            outputs = self.model(images)\n",
        "                    \n",
        "            loss = self.criterion(outputs, labels)\n",
        "            loss_list.append(loss.item())\n",
        "                \n",
        "            # Get predictions from the maximum value\n",
        "            preds = torch.argmax(outputs, dim=1)\n",
        "            correct += len( torch.where(preds==labels)[0] )\n",
        "            total += len(labels)\n",
        "                    \n",
        "        # Total correct predictions and loss\n",
        "        accuracy = correct / total * 100\n",
        "        loss = np.mean(loss_list)\n",
        "        return accuracy, loss\n",
        "    \n",
        "    def save_model(self, optimizer, epoch):\n",
        "        \"\"\" Saving model checkpoint \"\"\"\n",
        "\n",
        "        torch.save({\n",
        "            'epoch': epoch,\n",
        "            'model_state_dict': self.model.state_dict(),\n",
        "            'optimizer_state_dict': optimizer.state_dict(),\n",
        "            'stats': self.stats\n",
        "        }, f'{self.savepath}/chckpt_{epoch}.pth')\n",
        "        \n",
        "        return\n",
        "\n",
        "    def load_model(self, optimizer, savepath):\n",
        "        \"\"\" Loading pretrained checkpoint \"\"\"\n",
        "        \n",
        "        checkpoint = torch.load(savepath)\n",
        "        self.model.load_state_dict(checkpoint['model_state_dict'])\n",
        "        optimizer.load_state_dict(checkpoint['optimizer_state_dict'])\n",
        "        epoch = checkpoint[\"epoch\"]\n",
        "        stats = checkpoint[\"stats\"]\n",
        "        \n",
        "        return self.model, optimizer, epoch, stats\n",
        "\n",
        "    def train(self, train_loader, test_loader, num_epochs, lr, device, optimizer, init_epoch=0, valid_loss_diff_to_stop=0.003):\n",
        "        self.model.train()\n",
        "        self.model.to(device)\n",
        "        self.criterion.to(device)\n",
        "        optimizer = torch.optim.Adam(params=self.model.parameters(), lr=lr)\n",
        "        loss_hist = []\n",
        "\n",
        "        for epoch in range(init_epoch, num_epochs):\n",
        "            # EARLY STOPPING\n",
        "            if len(self.stats['valid_loss']) >= 2:\n",
        "                if self.stats['valid_loss'][-2] - self.stats['valid_loss'][-1] < valid_loss_diff_to_stop:\n",
        "                    print('Early stopping criterion is met')\n",
        "                    break\n",
        "\n",
        "            loss_list = []\n",
        "            progress_bar = tqdm(enumerate(train_loader), total=len(train_loader))\n",
        "            for i, (images, labels) in progress_bar:\n",
        "                images = images.to(device)\n",
        "                labels = labels.to(device)\n",
        "                \n",
        "                # Clear gradients w.r.t. parameters\n",
        "                optimizer.zero_grad()\n",
        "                \n",
        "                # Forward pass to get output/logits\n",
        "                outputs = self.model(images)\n",
        "                \n",
        "                # Calculate Loss: softmax --> cross entropy loss\n",
        "                loss = self.criterion(outputs, labels)\n",
        "                loss_list.append(loss.item())\n",
        "                \n",
        "                # Getting gradients w.r.t. parameters\n",
        "                loss.backward()\n",
        "                \n",
        "                # Updating parameters\n",
        "                optimizer.step()\n",
        "                progress_bar.set_description(f\"Epoch {epoch+1} Iter {i+1}: loss {loss.item():.5f}. \")\n",
        "\n",
        "            loss_hist.append(np.mean(loss_list))\n",
        "            self.stats[\"epoch\"].append(epoch)\n",
        "            self.stats[\"train_loss\"].append(loss_hist[-1])\n",
        "            \n",
        "            # evaluating model\n",
        "            if epoch % self.eval_freq == 0:\n",
        "                accuracy, valid_loss = self.eval_model(test_loader)  \n",
        "                print(f\"Validation accuracy at epoch {epoch}: {round(accuracy, 2)}%\")\n",
        "                print(f\"Validation loss at epoch {epoch}: {round(valid_loss, 5)}\")\n",
        "            else:   \n",
        "                accuracy, valid_loss = -1, -1\n",
        "            self.stats[\"accuracy\"].append(accuracy)\n",
        "            self.stats[\"valid_loss\"].append(valid_loss)\n",
        "            \n",
        "            # saving checkpoint\n",
        "            if epoch % self.save_freq == 0:\n",
        "                self.save_model(optimizer=optimizer, epoch=epoch)\n"
      ],
      "metadata": {
        "id": "4sV6AsID92cP"
      },
      "execution_count": null,
      "outputs": []
    },
    {
      "cell_type": "code",
      "source": [
        "cnn_max = CNN(downsample_method='max')\n",
        "cnn_avg = CNN(downsample_method='avg')\n",
        "cnn_dilated = CNN(downsample_method='dilated')\n",
        "\n",
        "if(not os.path.exists(\"drive/MyDrive/models/max\")):\n",
        "    os.makedirs(\"drive/MyDrive/models/max\")\n",
        "if(not os.path.exists(\"drive/MyDrive/models/avg\")):\n",
        "    os.makedirs(\"drive/MyDrive/models/avg\")\n",
        "if(not os.path.exists(\"drive/MyDrive/models/dilated\")):\n",
        "    os.makedirs(\"drive/MyDrive/models/dilated\")\n",
        "if(not os.path.exists(\"drive/MyDrive/models/max_dropout\")):\n",
        "    os.makedirs(\"drive/MyDrive/models/max_dropout\")\n",
        "\n",
        "cnn_max_trainer = Trainer(cnn_max, savepath='drive/MyDrive/models/max')\n",
        "cnn_avg_trainer = Trainer(cnn_avg, savepath='drive/MyDrive/models/avg')\n",
        "cnn_dilated_trainer = Trainer(cnn_dilated, savepath='drive/MyDrive/models/dilated')"
      ],
      "metadata": {
        "id": "mevFb2cQzfYx"
      },
      "execution_count": null,
      "outputs": []
    },
    {
      "cell_type": "code",
      "source": [
        "cnn_dilated_dropout = CNN(downsample_method='dilated', dropout=True)\n",
        "if(not os.path.exists(\"drive/MyDrive/models/dilated_dropout\")):\n",
        "    os.makedirs(\"drive/MyDrive/models/dilated_dropout\")\n",
        "cnn_dilated_dropout_trainer = Trainer(cnn_dilated_dropout, savepath='drive/MyDrive/models/max_dropout')"
      ],
      "metadata": {
        "id": "0OjAgz6M-K1q"
      },
      "execution_count": null,
      "outputs": []
    },
    {
      "cell_type": "code",
      "source": [
        "lr = 3e-4\n",
        "num_epochs = 100\n",
        "device = torch.device(\"cuda\" if torch.cuda.is_available() else \"cpu\")"
      ],
      "metadata": {
        "id": "IYornJ0c2KIf"
      },
      "execution_count": null,
      "outputs": []
    },
    {
      "cell_type": "code",
      "source": [
        "cnn_dilated_optimizer = torch.optim.Adam(params=cnn_dilated.parameters(), lr=lr)\n",
        "%time cnn_dilated_trainer.train(train_loader, test_loader, num_epochs, lr, device, cnn_dilated_optimizer)"
      ],
      "metadata": {
        "colab": {
          "base_uri": "https://localhost:8080/"
        },
        "id": "cJmnEfP_mHg9",
        "outputId": "486c09ba-0f29-4a02-897a-ce78005580b1"
      },
      "execution_count": null,
      "outputs": [
        {
          "output_type": "stream",
          "name": "stderr",
          "text": [
            "Epoch 1 Iter 287: loss 0.72595. : 100%|██████████| 287/287 [00:13<00:00, 21.00it/s]\n"
          ]
        },
        {
          "output_type": "stream",
          "name": "stdout",
          "text": [
            "Validation accuracy at epoch 0: 67.23%\n",
            "Validation loss at epoch 0: 1.10573\n"
          ]
        },
        {
          "output_type": "stream",
          "name": "stderr",
          "text": [
            "Epoch 2 Iter 287: loss 0.82991. : 100%|██████████| 287/287 [00:13<00:00, 21.99it/s]\n"
          ]
        },
        {
          "output_type": "stream",
          "name": "stdout",
          "text": [
            "Validation accuracy at epoch 1: 76.55%\n",
            "Validation loss at epoch 1: 0.83711\n"
          ]
        },
        {
          "output_type": "stream",
          "name": "stderr",
          "text": [
            "Epoch 3 Iter 287: loss 0.41479. : 100%|██████████| 287/287 [00:12<00:00, 22.49it/s]\n"
          ]
        },
        {
          "output_type": "stream",
          "name": "stdout",
          "text": [
            "Validation accuracy at epoch 2: 79.54%\n",
            "Validation loss at epoch 2: 0.74228\n"
          ]
        },
        {
          "output_type": "stream",
          "name": "stderr",
          "text": [
            "Epoch 4 Iter 287: loss 0.55088. : 100%|██████████| 287/287 [00:12<00:00, 22.70it/s]\n"
          ]
        },
        {
          "output_type": "stream",
          "name": "stdout",
          "text": [
            "Validation accuracy at epoch 3: 81.87%\n",
            "Validation loss at epoch 3: 0.6694\n"
          ]
        },
        {
          "output_type": "stream",
          "name": "stderr",
          "text": [
            "Epoch 5 Iter 287: loss 0.80175. : 100%|██████████| 287/287 [00:13<00:00, 21.39it/s]\n"
          ]
        },
        {
          "output_type": "stream",
          "name": "stdout",
          "text": [
            "Validation accuracy at epoch 4: 82.72%\n",
            "Validation loss at epoch 4: 0.63425\n"
          ]
        },
        {
          "output_type": "stream",
          "name": "stderr",
          "text": [
            "Epoch 6 Iter 287: loss 0.40417. : 100%|██████████| 287/287 [00:12<00:00, 22.54it/s]\n"
          ]
        },
        {
          "output_type": "stream",
          "name": "stdout",
          "text": [
            "Validation accuracy at epoch 5: 83.95%\n",
            "Validation loss at epoch 5: 0.59264\n"
          ]
        },
        {
          "output_type": "stream",
          "name": "stderr",
          "text": [
            "Epoch 7 Iter 287: loss 0.50538. : 100%|██████████| 287/287 [00:12<00:00, 22.63it/s]\n"
          ]
        },
        {
          "output_type": "stream",
          "name": "stdout",
          "text": [
            "Validation accuracy at epoch 6: 84.32%\n",
            "Validation loss at epoch 6: 0.57849\n"
          ]
        },
        {
          "output_type": "stream",
          "name": "stderr",
          "text": [
            "Epoch 8 Iter 287: loss 0.89076. : 100%|██████████| 287/287 [00:12<00:00, 22.45it/s]\n"
          ]
        },
        {
          "output_type": "stream",
          "name": "stdout",
          "text": [
            "Validation accuracy at epoch 7: 85.07%\n",
            "Validation loss at epoch 7: 0.56054\n"
          ]
        },
        {
          "output_type": "stream",
          "name": "stderr",
          "text": [
            "Epoch 9 Iter 287: loss 0.51710. : 100%|██████████| 287/287 [00:12<00:00, 22.36it/s]\n"
          ]
        },
        {
          "output_type": "stream",
          "name": "stdout",
          "text": [
            "Validation accuracy at epoch 8: 85.32%\n",
            "Validation loss at epoch 8: 0.54596\n"
          ]
        },
        {
          "output_type": "stream",
          "name": "stderr",
          "text": [
            "Epoch 10 Iter 287: loss 0.39306. : 100%|██████████| 287/287 [00:12<00:00, 22.60it/s]\n"
          ]
        },
        {
          "output_type": "stream",
          "name": "stdout",
          "text": [
            "Validation accuracy at epoch 9: 85.53%\n",
            "Validation loss at epoch 9: 0.53586\n"
          ]
        },
        {
          "output_type": "stream",
          "name": "stderr",
          "text": [
            "Epoch 11 Iter 287: loss 0.47495. : 100%|██████████| 287/287 [00:12<00:00, 22.47it/s]\n"
          ]
        },
        {
          "output_type": "stream",
          "name": "stdout",
          "text": [
            "Validation accuracy at epoch 10: 85.83%\n",
            "Validation loss at epoch 10: 0.53522\n",
            "Early stopping criterion is met\n",
            "CPU times: user 2min 55s, sys: 4.18 s, total: 2min 59s\n",
            "Wall time: 3min 2s\n"
          ]
        }
      ]
    },
    {
      "cell_type": "code",
      "source": [
        "cnn_max_optimizer = torch.optim.Adam(params=cnn_max.parameters(), lr=lr)\n",
        "%time cnn_max_trainer.train(train_loader, test_loader, num_epochs, lr, device, cnn_max_optimizer)"
      ],
      "metadata": {
        "colab": {
          "base_uri": "https://localhost:8080/"
        },
        "id": "re6iFeCo9IpR",
        "outputId": "d9538ea6-6633-44b5-b8eb-e98160418d1f"
      },
      "execution_count": null,
      "outputs": [
        {
          "output_type": "stream",
          "name": "stderr",
          "text": [
            "Epoch 1 Iter 287: loss 1.17232. : 100%|██████████| 287/287 [00:12<00:00, 23.78it/s]\n"
          ]
        },
        {
          "output_type": "stream",
          "name": "stdout",
          "text": [
            "Validation accuracy at epoch 0: 63.96%\n",
            "Validation loss at epoch 0: 1.27416\n"
          ]
        },
        {
          "output_type": "stream",
          "name": "stderr",
          "text": [
            "Epoch 2 Iter 287: loss 0.89310. : 100%|██████████| 287/287 [00:12<00:00, 23.54it/s]\n"
          ]
        },
        {
          "output_type": "stream",
          "name": "stdout",
          "text": [
            "Validation accuracy at epoch 1: 76.04%\n",
            "Validation loss at epoch 1: 0.86356\n"
          ]
        },
        {
          "output_type": "stream",
          "name": "stderr",
          "text": [
            "Epoch 3 Iter 287: loss 0.53957. : 100%|██████████| 287/287 [00:11<00:00, 23.99it/s]\n"
          ]
        },
        {
          "output_type": "stream",
          "name": "stdout",
          "text": [
            "Validation accuracy at epoch 2: 79.94%\n",
            "Validation loss at epoch 2: 0.73682\n"
          ]
        },
        {
          "output_type": "stream",
          "name": "stderr",
          "text": [
            "Epoch 4 Iter 287: loss 0.59073. : 100%|██████████| 287/287 [00:12<00:00, 23.64it/s]\n"
          ]
        },
        {
          "output_type": "stream",
          "name": "stdout",
          "text": [
            "Validation accuracy at epoch 3: 81.88%\n",
            "Validation loss at epoch 3: 0.67819\n"
          ]
        },
        {
          "output_type": "stream",
          "name": "stderr",
          "text": [
            "Epoch 5 Iter 287: loss 0.51334. : 100%|██████████| 287/287 [00:12<00:00, 23.79it/s]\n"
          ]
        },
        {
          "output_type": "stream",
          "name": "stdout",
          "text": [
            "Validation accuracy at epoch 4: 82.46%\n",
            "Validation loss at epoch 4: 0.65276\n"
          ]
        },
        {
          "output_type": "stream",
          "name": "stderr",
          "text": [
            "Epoch 6 Iter 287: loss 0.39159. : 100%|██████████| 287/287 [00:12<00:00, 23.74it/s]\n"
          ]
        },
        {
          "output_type": "stream",
          "name": "stdout",
          "text": [
            "Validation accuracy at epoch 5: 82.84%\n",
            "Validation loss at epoch 5: 0.6317\n"
          ]
        },
        {
          "output_type": "stream",
          "name": "stderr",
          "text": [
            "Epoch 7 Iter 287: loss 0.47961. : 100%|██████████| 287/287 [00:11<00:00, 23.97it/s]\n"
          ]
        },
        {
          "output_type": "stream",
          "name": "stdout",
          "text": [
            "Validation accuracy at epoch 6: 83.58%\n",
            "Validation loss at epoch 6: 0.6139\n"
          ]
        },
        {
          "output_type": "stream",
          "name": "stderr",
          "text": [
            "Epoch 8 Iter 287: loss 0.35799. : 100%|██████████| 287/287 [00:12<00:00, 23.81it/s]\n"
          ]
        },
        {
          "output_type": "stream",
          "name": "stdout",
          "text": [
            "Validation accuracy at epoch 7: 84.06%\n",
            "Validation loss at epoch 7: 0.60041\n"
          ]
        },
        {
          "output_type": "stream",
          "name": "stderr",
          "text": [
            "Epoch 9 Iter 287: loss 0.53183. : 100%|██████████| 287/287 [00:11<00:00, 24.08it/s]\n"
          ]
        },
        {
          "output_type": "stream",
          "name": "stdout",
          "text": [
            "Validation accuracy at epoch 8: 84.29%\n",
            "Validation loss at epoch 8: 0.59444\n"
          ]
        },
        {
          "output_type": "stream",
          "name": "stderr",
          "text": [
            "Epoch 10 Iter 287: loss 0.44266. : 100%|██████████| 287/287 [00:11<00:00, 24.06it/s]\n"
          ]
        },
        {
          "output_type": "stream",
          "name": "stdout",
          "text": [
            "Validation accuracy at epoch 9: 84.57%\n",
            "Validation loss at epoch 9: 0.58612\n"
          ]
        },
        {
          "output_type": "stream",
          "name": "stderr",
          "text": [
            "Epoch 11 Iter 287: loss 0.81373. : 100%|██████████| 287/287 [00:12<00:00, 23.80it/s]\n"
          ]
        },
        {
          "output_type": "stream",
          "name": "stdout",
          "text": [
            "Validation accuracy at epoch 10: 84.66%\n",
            "Validation loss at epoch 10: 0.5835\n",
            "Early stopping criterion is met\n",
            "CPU times: user 2min 44s, sys: 2.59 s, total: 2min 46s\n",
            "Wall time: 2min 48s\n"
          ]
        }
      ]
    },
    {
      "cell_type": "code",
      "source": [
        "cnn_avg_optimizer = torch.optim.Adam(params=cnn_avg.parameters(), lr=lr)\n",
        "%time cnn_avg_trainer.train(train_loader, test_loader, num_epochs, lr, device, cnn_avg_optimizer)"
      ],
      "metadata": {
        "colab": {
          "base_uri": "https://localhost:8080/"
        },
        "id": "mJTY69f9lvN9",
        "outputId": "8a3fd327-dd37-479e-b6b8-29248bcc58cc"
      },
      "execution_count": null,
      "outputs": [
        {
          "output_type": "stream",
          "name": "stderr",
          "text": [
            "Epoch 1 Iter 287: loss 1.96032. : 100%|██████████| 287/287 [00:12<00:00, 23.87it/s]\n"
          ]
        },
        {
          "output_type": "stream",
          "name": "stdout",
          "text": [
            "Validation accuracy at epoch 0: 44.38%\n",
            "Validation loss at epoch 0: 1.76998\n"
          ]
        },
        {
          "output_type": "stream",
          "name": "stderr",
          "text": [
            "Epoch 2 Iter 287: loss 1.30971. : 100%|██████████| 287/287 [00:12<00:00, 23.91it/s]\n"
          ]
        },
        {
          "output_type": "stream",
          "name": "stdout",
          "text": [
            "Validation accuracy at epoch 1: 68.12%\n",
            "Validation loss at epoch 1: 1.1058\n"
          ]
        },
        {
          "output_type": "stream",
          "name": "stderr",
          "text": [
            "Epoch 3 Iter 287: loss 0.71589. : 100%|██████████| 287/287 [00:12<00:00, 23.10it/s]\n"
          ]
        },
        {
          "output_type": "stream",
          "name": "stdout",
          "text": [
            "Validation accuracy at epoch 2: 75.13%\n",
            "Validation loss at epoch 2: 0.88741\n"
          ]
        },
        {
          "output_type": "stream",
          "name": "stderr",
          "text": [
            "Epoch 4 Iter 287: loss 0.80971. : 100%|██████████| 287/287 [00:11<00:00, 24.04it/s]\n"
          ]
        },
        {
          "output_type": "stream",
          "name": "stdout",
          "text": [
            "Validation accuracy at epoch 3: 77.64%\n",
            "Validation loss at epoch 3: 0.80404\n"
          ]
        },
        {
          "output_type": "stream",
          "name": "stderr",
          "text": [
            "Epoch 5 Iter 287: loss 0.77393. : 100%|██████████| 287/287 [00:12<00:00, 23.87it/s]\n"
          ]
        },
        {
          "output_type": "stream",
          "name": "stdout",
          "text": [
            "Validation accuracy at epoch 4: 79.08%\n",
            "Validation loss at epoch 4: 0.75182\n"
          ]
        },
        {
          "output_type": "stream",
          "name": "stderr",
          "text": [
            "Epoch 6 Iter 287: loss 1.03418. : 100%|██████████| 287/287 [00:12<00:00, 23.84it/s]\n"
          ]
        },
        {
          "output_type": "stream",
          "name": "stdout",
          "text": [
            "Validation accuracy at epoch 5: 80.32%\n",
            "Validation loss at epoch 5: 0.71446\n"
          ]
        },
        {
          "output_type": "stream",
          "name": "stderr",
          "text": [
            "Epoch 7 Iter 287: loss 0.74723. : 100%|██████████| 287/287 [00:12<00:00, 23.80it/s]\n"
          ]
        },
        {
          "output_type": "stream",
          "name": "stdout",
          "text": [
            "Validation accuracy at epoch 6: 80.77%\n",
            "Validation loss at epoch 6: 0.69858\n"
          ]
        },
        {
          "output_type": "stream",
          "name": "stderr",
          "text": [
            "Epoch 8 Iter 287: loss 0.37567. : 100%|██████████| 287/287 [00:11<00:00, 24.07it/s]\n"
          ]
        },
        {
          "output_type": "stream",
          "name": "stdout",
          "text": [
            "Validation accuracy at epoch 7: 80.83%\n",
            "Validation loss at epoch 7: 0.68271\n"
          ]
        },
        {
          "output_type": "stream",
          "name": "stderr",
          "text": [
            "Epoch 9 Iter 287: loss 0.70953. : 100%|██████████| 287/287 [00:12<00:00, 23.71it/s]\n"
          ]
        },
        {
          "output_type": "stream",
          "name": "stdout",
          "text": [
            "Validation accuracy at epoch 8: 82.12%\n",
            "Validation loss at epoch 8: 0.65162\n"
          ]
        },
        {
          "output_type": "stream",
          "name": "stderr",
          "text": [
            "Epoch 10 Iter 287: loss 0.63290. : 100%|██████████| 287/287 [00:12<00:00, 23.90it/s]\n"
          ]
        },
        {
          "output_type": "stream",
          "name": "stdout",
          "text": [
            "Validation accuracy at epoch 9: 82.39%\n",
            "Validation loss at epoch 9: 0.6435\n"
          ]
        },
        {
          "output_type": "stream",
          "name": "stderr",
          "text": [
            "Epoch 11 Iter 287: loss 0.72543. : 100%|██████████| 287/287 [00:11<00:00, 24.00it/s]\n"
          ]
        },
        {
          "output_type": "stream",
          "name": "stdout",
          "text": [
            "Validation accuracy at epoch 10: 82.42%\n",
            "Validation loss at epoch 10: 0.63854\n"
          ]
        },
        {
          "output_type": "stream",
          "name": "stderr",
          "text": [
            "Epoch 12 Iter 287: loss 0.77205. : 100%|██████████| 287/287 [00:11<00:00, 24.01it/s]\n"
          ]
        },
        {
          "output_type": "stream",
          "name": "stdout",
          "text": [
            "Validation accuracy at epoch 11: 82.61%\n",
            "Validation loss at epoch 11: 0.63261\n"
          ]
        },
        {
          "output_type": "stream",
          "name": "stderr",
          "text": [
            "Epoch 13 Iter 287: loss 0.57314. : 100%|██████████| 287/287 [00:11<00:00, 23.96it/s]\n"
          ]
        },
        {
          "output_type": "stream",
          "name": "stdout",
          "text": [
            "Validation accuracy at epoch 12: 82.93%\n",
            "Validation loss at epoch 12: 0.62113\n"
          ]
        },
        {
          "output_type": "stream",
          "name": "stderr",
          "text": [
            "Epoch 14 Iter 287: loss 0.69779. : 100%|██████████| 287/287 [00:12<00:00, 23.70it/s]\n"
          ]
        },
        {
          "output_type": "stream",
          "name": "stdout",
          "text": [
            "Validation accuracy at epoch 13: 83.28%\n",
            "Validation loss at epoch 13: 0.61309\n"
          ]
        },
        {
          "output_type": "stream",
          "name": "stderr",
          "text": [
            "Epoch 15 Iter 287: loss 0.54997. : 100%|██████████| 287/287 [00:11<00:00, 24.21it/s]\n"
          ]
        },
        {
          "output_type": "stream",
          "name": "stdout",
          "text": [
            "Validation accuracy at epoch 14: 83.44%\n",
            "Validation loss at epoch 14: 0.60301\n"
          ]
        },
        {
          "output_type": "stream",
          "name": "stderr",
          "text": [
            "Epoch 16 Iter 287: loss 0.46537. : 100%|██████████| 287/287 [00:11<00:00, 24.08it/s]\n"
          ]
        },
        {
          "output_type": "stream",
          "name": "stdout",
          "text": [
            "Validation accuracy at epoch 15: 83.86%\n",
            "Validation loss at epoch 15: 0.58861\n"
          ]
        },
        {
          "output_type": "stream",
          "name": "stderr",
          "text": [
            "Epoch 17 Iter 287: loss 0.44477. : 100%|██████████| 287/287 [00:11<00:00, 24.33it/s]\n"
          ]
        },
        {
          "output_type": "stream",
          "name": "stdout",
          "text": [
            "Validation accuracy at epoch 16: 83.87%\n",
            "Validation loss at epoch 16: 0.58502\n"
          ]
        },
        {
          "output_type": "stream",
          "name": "stderr",
          "text": [
            "Epoch 18 Iter 287: loss 0.57436. : 100%|██████████| 287/287 [00:11<00:00, 23.95it/s]\n"
          ]
        },
        {
          "output_type": "stream",
          "name": "stdout",
          "text": [
            "Validation accuracy at epoch 17: 83.54%\n",
            "Validation loss at epoch 17: 0.59657\n",
            "Early stopping criterion is met\n",
            "CPU times: user 4min 28s, sys: 4.12 s, total: 4min 32s\n",
            "Wall time: 4min 34s\n"
          ]
        }
      ]
    },
    {
      "cell_type": "code",
      "source": [
        "cnn_dilated_dropout_optimizer = torch.optim.Adam(params=cnn_dilated_dropout.parameters(), lr=lr)\n",
        "%time cnn_dilated_dropout_trainer.train(train_loader, test_loader, num_epochs, lr, device, cnn_dilated_dropout_optimizer)"
      ],
      "metadata": {
        "colab": {
          "base_uri": "https://localhost:8080/"
        },
        "id": "-0G7PTAn2juL",
        "outputId": "ed654dfb-b691-48c3-b82a-870541179c33"
      },
      "execution_count": null,
      "outputs": [
        {
          "output_type": "stream",
          "name": "stderr",
          "text": [
            "Epoch 1 Iter 287: loss 1.63926. : 100%|██████████| 287/287 [00:13<00:00, 22.01it/s]\n"
          ]
        },
        {
          "output_type": "stream",
          "name": "stdout",
          "text": [
            "Validation accuracy at epoch 0: 40.0%\n",
            "Validation loss at epoch 0: 1.77122\n"
          ]
        },
        {
          "output_type": "stream",
          "name": "stderr",
          "text": [
            "Epoch 2 Iter 287: loss 0.83188. : 100%|██████████| 287/287 [00:13<00:00, 21.08it/s]\n"
          ]
        },
        {
          "output_type": "stream",
          "name": "stdout",
          "text": [
            "Validation accuracy at epoch 1: 64.69%\n",
            "Validation loss at epoch 1: 1.13822\n"
          ]
        },
        {
          "output_type": "stream",
          "name": "stderr",
          "text": [
            "Epoch 3 Iter 287: loss 0.92116. : 100%|██████████| 287/287 [00:15<00:00, 19.09it/s]\n"
          ]
        },
        {
          "output_type": "stream",
          "name": "stdout",
          "text": [
            "Validation accuracy at epoch 2: 71.85%\n",
            "Validation loss at epoch 2: 0.91545\n"
          ]
        },
        {
          "output_type": "stream",
          "name": "stderr",
          "text": [
            "Epoch 4 Iter 287: loss 0.88547. : 100%|██████████| 287/287 [00:13<00:00, 21.87it/s]\n"
          ]
        },
        {
          "output_type": "stream",
          "name": "stdout",
          "text": [
            "Validation accuracy at epoch 3: 74.53%\n",
            "Validation loss at epoch 3: 0.83661\n"
          ]
        },
        {
          "output_type": "stream",
          "name": "stderr",
          "text": [
            "Epoch 5 Iter 287: loss 0.83025. : 100%|██████████| 287/287 [00:12<00:00, 23.02it/s]\n"
          ]
        },
        {
          "output_type": "stream",
          "name": "stdout",
          "text": [
            "Validation accuracy at epoch 4: 76.71%\n",
            "Validation loss at epoch 4: 0.77161\n"
          ]
        },
        {
          "output_type": "stream",
          "name": "stderr",
          "text": [
            "Epoch 6 Iter 287: loss 0.60911. : 100%|██████████| 287/287 [00:12<00:00, 22.85it/s]\n"
          ]
        },
        {
          "output_type": "stream",
          "name": "stdout",
          "text": [
            "Validation accuracy at epoch 5: 77.86%\n",
            "Validation loss at epoch 5: 0.72575\n"
          ]
        },
        {
          "output_type": "stream",
          "name": "stderr",
          "text": [
            "Epoch 7 Iter 287: loss 0.64010. : 100%|██████████| 287/287 [00:12<00:00, 23.04it/s]\n"
          ]
        },
        {
          "output_type": "stream",
          "name": "stdout",
          "text": [
            "Validation accuracy at epoch 6: 80.25%\n",
            "Validation loss at epoch 6: 0.65539\n"
          ]
        },
        {
          "output_type": "stream",
          "name": "stderr",
          "text": [
            "Epoch 8 Iter 287: loss 0.33282. : 100%|██████████| 287/287 [00:12<00:00, 22.13it/s]\n"
          ]
        },
        {
          "output_type": "stream",
          "name": "stdout",
          "text": [
            "Validation accuracy at epoch 7: 80.14%\n",
            "Validation loss at epoch 7: 0.65328\n",
            "Early stopping criterion is met\n",
            "CPU times: user 2min 6s, sys: 1.84 s, total: 2min 8s\n",
            "Wall time: 2min 11s\n"
          ]
        }
      ]
    },
    {
      "cell_type": "code",
      "source": [
        "def plot_loss(trainer):\n",
        "    epochs = np.array(trainer.stats[\"epoch\"])\n",
        "    train_loss = np.array(trainer.stats[\"train_loss\"])\n",
        "\n",
        "    eval_loss = np.array(trainer.stats[\"valid_loss\"])\n",
        "    accuracy = np.array(trainer.stats[\"accuracy\"])\n",
        "    eval_idx = np.where(eval_loss != -1)[0]\n",
        "    fig, ax = plt.subplots(1,2)\n",
        "    fig.set_size_inches(16,5)\n",
        "\n",
        "    for a in ax:\n",
        "\n",
        "        a.plot(epochs+1, train_loss, label=\"Train Loss\", linewidth=3)\n",
        "        a.plot(epochs[eval_idx]+1, eval_loss[eval_idx], c=\"red\", label=\"Eval Loss\", linewidth=3)\n",
        "    #     a.scatter(epochs[eval_idx]+1, eval_loss[eval_idx], c=\"red\", s=100, marker=\"x\")\n",
        "        a.legend(loc=\"best\")\n",
        "        a.set_xlabel(\"Epochs\")\n",
        "        a.set_ylabel(\"CE Loss value\")\n",
        "\n",
        "    ax[0].set_title(\"Training-Eval Progress\")\n",
        "    ax[1].set_title(\"Training-Eval Progress (Log)\")\n",
        "    ax[1].set_yscale(\"log\")\n",
        "\n",
        "    plt.show()"
      ],
      "metadata": {
        "id": "ubGXiwNSdrpi"
      },
      "execution_count": null,
      "outputs": []
    },
    {
      "cell_type": "code",
      "source": [
        "def plot_loss_list(trainer_list, title_list):\n",
        "    fig, ax = plt.subplots(1, len(trainer_list))\n",
        "    fig.set_size_inches(16,5)\n",
        "    trainers = [cnn_avg_trainer, cnn_max_trainer, cnn_dilated_trainer]\n",
        "    for trainer, a, title in zip(trainer_list, ax, title_list):\n",
        "        epochs = np.array(trainer.stats[\"epoch\"])\n",
        "        train_loss = np.array(trainer.stats[\"train_loss\"])\n",
        "\n",
        "        eval_loss = np.array(trainer.stats[\"valid_loss\"])\n",
        "        accuracy = np.array(trainer.stats[\"accuracy\"])\n",
        "        eval_idx = np.where(eval_loss != -1)[0]\n",
        "\n",
        "        a.plot(epochs+1, train_loss, label=\"Train Loss\", linewidth=3)\n",
        "        a.plot(epochs[eval_idx]+1, eval_loss[eval_idx], c=\"red\", label=\"Eval Loss\", linewidth=3)\n",
        "    #     a.scatter(epochs[eval_idx]+1, eval_loss[eval_idx], c=\"red\", s=100, marker=\"x\")\n",
        "        a.legend(loc=\"best\")\n",
        "        a.set_xlabel(\"Epochs\")\n",
        "        a.set_ylabel(\"CE Loss value log\")\n",
        "        a.set_yscale(\"log\")\n",
        "        a.set_title(title)\n",
        "\n",
        "    plt.show()"
      ],
      "metadata": {
        "id": "vWM0mFT8uQfd"
      },
      "execution_count": null,
      "outputs": []
    },
    {
      "cell_type": "code",
      "source": [
        "def plot_acc(trainer):\n",
        "    fig, ax = plt.subplots(1,1)\n",
        "    fig.set_size_inches(16,5)\n",
        "\n",
        "    epochs = trainer.stats['epoch']\n",
        "    acc = trainer.stats['accuracy']\n",
        "    \n",
        "    ax[0].plot(epochs, acc, c=\"red\", label=\"Accuracy\", linewidth=3)\n",
        "    ax[0].legend(loc=\"best\")\n",
        "    ax[0].set_xlabel(\"Epochs\")\n",
        "    ax[0].set_ylabel(\"Classification Accuracy\")\n",
        "    ax[0].set_title(\"Eval Accuracy Progress\")"
      ],
      "metadata": {
        "id": "kXEvZyy-p98X"
      },
      "execution_count": null,
      "outputs": []
    },
    {
      "cell_type": "code",
      "source": [
        "def plot_acc_list(trainer_list, title_list):\n",
        "    fig, ax = plt.subplots(1, len(trainer_list))\n",
        "    fig.set_size_inches(16,5)\n",
        "    trainers = [cnn_avg_trainer, cnn_max_trainer, cnn_dilated_trainer]\n",
        "    for trainer, a, title in zip(trainer_list, ax, title_list):\n",
        "\n",
        "        epochs = trainer.stats['epoch']\n",
        "        acc = trainer.stats['accuracy']\n",
        "\n",
        "        a.plot(epochs, acc, c=\"red\", label=\"Accuracy\", linewidth=3)\n",
        "        a.legend(loc=\"best\")\n",
        "        a.set_xlabel(\"Epochs\")\n",
        "        a.set_ylabel(\"Classification Accuracy\")\n",
        "        a.set_title(title)\n",
        "        \n",
        "    plt.show()"
      ],
      "metadata": {
        "id": "QHjHDALGw3Mr"
      },
      "execution_count": null,
      "outputs": []
    },
    {
      "cell_type": "markdown",
      "source": [
        "### Comparing models with avg pool, max pool and dilated convolutions"
      ],
      "metadata": {
        "id": "kQqcaHFn3fFR"
      }
    },
    {
      "cell_type": "code",
      "source": [
        "plot_loss_list([cnn_avg_trainer, cnn_max_trainer, cnn_dilated_trainer], ['avg', 'max', 'dilated'])"
      ],
      "metadata": {
        "colab": {
          "base_uri": "https://localhost:8080/",
          "height": 349
        },
        "id": "qBJhL9kZwOxr",
        "outputId": "c0187ace-c105-4d5b-9c22-8b336fb6ee71"
      },
      "execution_count": null,
      "outputs": [
        {
          "output_type": "display_data",
          "data": {
            "text/plain": [
              "<Figure size 1152x360 with 3 Axes>"
            ],
            "image/png": "[encoded data removed]"
          },
          "metadata": {
            "needs_background": "light"
          }
        }
      ]
    },
    {
      "cell_type": "code",
      "source": [
        "plot_acc_list([cnn_avg_trainer, cnn_max_trainer, cnn_dilated_trainer], ['avg', 'max', 'dilated'])"
      ],
      "metadata": {
        "colab": {
          "base_uri": "https://localhost:8080/",
          "height": 349
        },
        "id": "PKriqXSxxSwh",
        "outputId": "693e4406-d1af-480a-af61-0ca73e675402"
      },
      "execution_count": null,
      "outputs": [
        {
          "output_type": "display_data",
          "data": {
            "text/plain": [
              "<Figure size 1152x360 with 3 Axes>"
            ],
            "image/png": "[encoded data removed]"
          },
          "metadata": {
            "needs_background": "light"
          }
        }
      ]
    },
    {
      "cell_type": "markdown",
      "source": [
        "### Comparing 2 models with dilated convolution as the downsampling operator: with and without dropout"
      ],
      "metadata": {
        "id": "X2snyakj3j5X"
      }
    },
    {
      "cell_type": "code",
      "source": [
        "plot_loss_list([cnn_dilated_trainer, cnn_dilated_dropout_trainer], ['dilated', 'dilated with dropout'])"
      ],
      "metadata": {
        "colab": {
          "base_uri": "https://localhost:8080/",
          "height": 349
        },
        "id": "jOMRMZjS1_kk",
        "outputId": "e3489f1d-dbf9-42f2-917e-cd19e403acf3"
      },
      "execution_count": null,
      "outputs": [
        {
          "output_type": "display_data",
          "data": {
            "text/plain": [
              "<Figure size 1152x360 with 2 Axes>"
            ],
            "image/png": "[encoded data removed]"
          },
          "metadata": {
            "needs_background": "light"
          }
        }
      ]
    },
    {
      "cell_type": "code",
      "source": [
        "plot_acc_list([cnn_dilated_trainer, cnn_dilated_dropout_trainer], ['dilated', 'dilated with dropout'])"
      ],
      "metadata": {
        "colab": {
          "base_uri": "https://localhost:8080/",
          "height": 349
        },
        "id": "rmf4oByn3SFU",
        "outputId": "3995cabc-5bca-4bac-c812-22c90b6072f0"
      },
      "execution_count": null,
      "outputs": [
        {
          "output_type": "display_data",
          "data": {
            "text/plain": [
              "<Figure size 1152x360 with 2 Axes>"
            ],
            "image/png": "[encoded data removed]"
          },
          "metadata": {
            "needs_background": "light"
          }
        }
      ]
    },
    {
      "cell_type": "code",
      "source": [
        ""
      ],
      "metadata": {
        "id": "tg-2du3K4cQS"
      },
      "execution_count": null,
      "outputs": []
    }
  ]
}